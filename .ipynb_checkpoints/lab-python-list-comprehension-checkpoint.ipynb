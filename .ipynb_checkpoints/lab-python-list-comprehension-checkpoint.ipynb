{
 "cells": [
  {
   "cell_type": "markdown",
   "id": "25d7736c-ba17-4aff-b6bb-66eba20fbf4e",
   "metadata": {},
   "source": [
    "# Lab | List, Dict and Set Comprehension"
   ]
  },
  {
   "cell_type": "markdown",
   "id": "7dd3cbde-675a-4b81-92c3-f728846dbe06",
   "metadata": {},
   "source": [
    "## Exercise: Managing Customer Orders Optimized with Comprehension"
   ]
  },
  {
   "cell_type": "markdown",
   "id": "5d500160-2fb7-4777-b5e4-09d45ebaf328",
   "metadata": {},
   "source": [
    "In the previous exercise, you developed a program to manage customer orders and inventory. Now, let's take it a step further and incorporate comprehension into your code.\n",
    "\n",
    "Follow the steps below to complete the exercise:\n",
    "\n",
    "1. Review your code from the previous exercise and identify areas where you can apply comprehension to simplify and streamline your code. \n",
    "\n",
    "    - *Hint: Apply it to initialize inventory, updating the inventory and printing the updated inventory.*\n",
    "    \n",
    "    - For example, in initializing the inventory, we could have:\n",
    "    \n",
    "        ```python\n",
    "        def initialize_inventory(products):\n",
    "            inventory = {product: int(input(f\"Enter the quantity of {product}s available: \")) for product in products}\n",
    "            return inventory\n",
    "\n",
    "        ```\n",
    "<br>\n",
    "    \n",
    "    \n",
    "2. Modify the function get_customer_orders so it prompts the user to enter the number of customer orders and gathers the product names using a loop and user input. Use comprehension.\n",
    "\n",
    "3. Add a new function to calculate the total price of the customer order. For each product in customer_orders, prompt the user to enter the price of that product. Use comprehension to calculate the total price. Note: assume that the user can only have 1 unit of each product.\n",
    "\n",
    "4. Modify the update_inventory function to remove the product from the inventory if its quantity becomes zero after fulfilling the customer orders. Use comprehension to filter out the products with a quantity of zero from the inventory.\n",
    "\n",
    "5. Print the total price of the customer order.\n",
    "\n",
    "Your code should produce output similar to the following:\n",
    "\n",
    "```python\n",
    "Enter the quantity of t-shirts available:  5\n",
    "Enter the quantity of mugs available:  4\n",
    "Enter the quantity of hats available:  3\n",
    "Enter the quantity of books available:  2\n",
    "Enter the quantity of keychains available:  1\n",
    "Enter the number of customer orders:  2\n",
    "Enter the name of a product that a customer wants to order:  hat\n",
    "Enter the name of a product that a customer wants to order:  keychain\n",
    "\n",
    "Order Statistics:\n",
    "Total Products Ordered: 2\n",
    "Percentage of Unique Products Ordered: 40.0\n",
    "\n",
    "Updated Inventory:\n",
    "t-shirt: 5\n",
    "mug: 4\n",
    "hat: 2\n",
    "book: 2\n",
    "Enter the price of keychain:  5\n",
    "Enter the price of hat:  10\n",
    "Total Price: 15.0\n",
    "\n",
    "```\n"
   ]
  },
  {
   "cell_type": "code",
   "execution_count": 225,
   "id": "9f08003c-66f5-4d36-ae4c-bbcb22e59414",
   "metadata": {},
   "outputs": [],
   "source": [
    "# initializing the inventory\n",
    "# Modify the function get_customer_orders so it prompts the user to enter the number of customer orders and gathers \n",
    "# the product names using a loop and user input. Use comprehension.\n",
    "def initialize_inventory(products):\n",
    "    inventory = {item: int(input(f\"Enter the quantity of {item}s available: \")) for item in products}\n",
    "    return inventory"
   ]
  },
  {
   "cell_type": "code",
   "execution_count": 227,
   "id": "26be8289-7e3f-430d-9c2c-ca08613bbf5b",
   "metadata": {},
   "outputs": [],
   "source": [
    "def order_statistics(customer_orders, products):\n",
    "    percentage = (len(customer_orders)  / len(products)) * 100 \n",
    "    print(f\"\\nTotal Products Ordered: {len(customer_orders) }\")\n",
    "    print(f\"Percentage of Unique Products Ordered: {percentage}\")"
   ]
  },
  {
   "cell_type": "code",
   "execution_count": 235,
   "id": "ddc7a7d0-c363-4031-a7cd-399acb123a3a",
   "metadata": {},
   "outputs": [],
   "source": [
    "def total(customer_orders, prices):\n",
    "    return sum(prices[item] * quantity for item, quantity in customer_orders.items())"
   ]
  },
  {
   "cell_type": "code",
   "execution_count": 247,
   "id": "968664f4-32aa-4104-891e-fb86a2127d3f",
   "metadata": {},
   "outputs": [],
   "source": [
    "def main(): \n",
    "    products = ['hat','t-shirt','keychain','mug','book']\n",
    "    \n",
    "    print(\"Initialize the inventory\\n\")\n",
    "    inventory = initialize_inventory(products)\n",
    "    \n",
    "    print(\"Enter the prices for the products\\n\")\n",
    "    prices = all_prices(products) \n",
    "    \n",
    "    print(\"\\n\")\n",
    "    customer_orders = get_customer_orders(products)\n",
    "    \n",
    "    print(\" \")\n",
    "    order_statistics(customer_orders, products)\n",
    "    \n",
    "    print(\" \")\n",
    "    updated_inventory = update_and_display_inventory(customer_orders, inventory)\n",
    "    \n",
    "    print(\" \")\n",
    "    print(f\"Total Price: €{total(customer_orders, prices):.2f}\")"
   ]
  },
  {
   "cell_type": "code",
   "execution_count": 241,
   "id": "b2186065-2086-4c38-919c-e5e064181245",
   "metadata": {},
   "outputs": [
    {
     "name": "stdout",
     "output_type": "stream",
     "text": [
      "Initialize the inventory\n",
      "\n"
     ]
    },
    {
     "name": "stdin",
     "output_type": "stream",
     "text": [
      "Enter the quantity of hats available:  3\n",
      "Enter the quantity of t-shirts available:  5\n",
      "Enter the quantity of keychains available:  1\n",
      "Enter the quantity of mugs available:  4\n",
      "Enter the quantity of books available:  2\n"
     ]
    },
    {
     "name": "stdout",
     "output_type": "stream",
     "text": [
      "Enter the prices for the products\n",
      "\n",
      " \n"
     ]
    },
    {
     "name": "stdin",
     "output_type": "stream",
     "text": [
      "Enter the price of hat:  2\n",
      "Enter the price of t-shirt:  6\n",
      "Enter the price of keychain:  7\n",
      "Enter the price of mug:  1\n",
      "Enter the price of book:  8\n"
     ]
    },
    {
     "name": "stdout",
     "output_type": "stream",
     "text": [
      "\n",
      "\n"
     ]
    },
    {
     "name": "stdin",
     "output_type": "stream",
     "text": [
      "Enter the number of customer orders:  2\n",
      "Enter the name of a product that a customer wants to order:  hat\n",
      "Enter the name of a product that a customer wants to order:  keychain\n"
     ]
    },
    {
     "name": "stdout",
     "output_type": "stream",
     "text": [
      " \n",
      "\n",
      "Total Products Ordered: 2\n",
      "Percentage of Unique Products Ordered: 40.0\n",
      " \n",
      "Updated Inventory:\n",
      "hat: 2 left in stock\n",
      "t-shirt: 5 left in stock\n",
      "mug: 4 left in stock\n",
      "book: 2 left in stock\n",
      " \n",
      "Total Price: €9.00\n"
     ]
    }
   ],
   "source": [
    "if __name__ == \"__main__\":\n",
    "    main()"
   ]
  }
 ],
 "metadata": {
  "kernelspec": {
   "display_name": "Python 3 (ipykernel)",
   "language": "python",
   "name": "python3"
  },
  "language_info": {
   "codemirror_mode": {
    "name": "ipython",
    "version": 3
   },
   "file_extension": ".py",
   "mimetype": "text/x-python",
   "name": "python",
   "nbconvert_exporter": "python",
   "pygments_lexer": "ipython3",
   "version": "3.12.4"
  }
 },
 "nbformat": 4,
 "nbformat_minor": 5
}
